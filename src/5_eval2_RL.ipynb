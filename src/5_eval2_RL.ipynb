{
 "cells": [
  {
   "cell_type": "code",
   "execution_count": 1,
   "id": "13236e9b",
   "metadata": {
    "pycharm": {
     "name": "#%%\n"
    }
   },
   "outputs": [],
   "source": [
    "import numpy as np\n",
    "import numpy\n",
    "import argparse\n",
    "import os\n",
    "import cv2\n",
    "\n",
    "import torch\n",
    "import torch.nn as nn\n",
    "import torchvision\n",
    "import torch.utils.data\n",
    "from torchvision.models.detection.faster_rcnn import FastRCNNPredictor\n",
    "from torchvision.models.detection.mask_rcnn import MaskRCNNPredictor\n",
    "\n",
    "from PIL import Image\n",
    "from engine import train_one_epoch, evaluate\n",
    "import pandas as pd\n",
    "from tqdm import tqdm\n",
    "\n",
    "import matplotlib\n",
    "matplotlib.use('TkAgg')\n",
    "%matplotlib inline\n",
    "import matplotlib.pyplot as plt\n",
    "\n",
    "import utils\n",
    "import transforms as T\n",
    "import time\n",
    "\n",
    "from scipy import ndimage\n",
    "from skimage.feature import corner_harris, corner_peaks, corner_subpix\n",
    "from skimage.feature import peak_local_max"
   ]
  },
  {
   "cell_type": "code",
   "execution_count": 2,
   "id": "958ffa12",
   "metadata": {
    "pycharm": {
     "name": "#%%\n"
    }
   },
   "outputs": [],
   "source": [
    "def get_transform(train):\n",
    "    transforms = []\n",
    "    transforms.append(T.ToTensor())\n",
    "    if train:\n",
    "        transforms.append(T.RandomHorizontalFlip(0.5))\n",
    "    return T.Compose(transforms)"
   ]
  },
  {
   "cell_type": "code",
   "execution_count": 3,
   "id": "68f97158",
   "metadata": {
    "pycharm": {
     "name": "#%%\n"
    }
   },
   "outputs": [],
   "source": [
    "def get_model_instance_segmentation(num_classes):\n",
    "    # load an instance segmentation model pre-trained pre-trained on COCO\n",
    "    model = torchvision.models.detection.maskrcnn_resnet50_fpn(pretrained=True)\n",
    "    model.backbone.body.conv1 = nn.Conv2d(36, 64, kernel_size=(7, 7), stride=(2, 2), padding=(3, 3), bias=False)\n",
    "\n",
    "    # get number of input features for the classifier\n",
    "    in_features = model.roi_heads.box_predictor.cls_score.in_features\n",
    "    # replace the pre-trained head with a new one\n",
    "    model.roi_heads.box_predictor = FastRCNNPredictor(in_features, num_classes)\n",
    "\n",
    "    # now get the number of input features for the mask classifier\n",
    "    in_features_mask = model.roi_heads.mask_predictor.conv5_mask.in_channels\n",
    "    hidden_layer = 256\n",
    "    # and replace the mask predictor with a new one\n",
    "    model.roi_heads.mask_predictor = MaskRCNNPredictor(in_features_mask,\n",
    "                                                       hidden_layer,\n",
    "                                                       num_classes)\n",
    "\n",
    "    return model"
   ]
  },
  {
   "cell_type": "code",
   "execution_count": 4,
   "id": "da66addb-0614-40fd-b846-1892ed17dc3b",
   "metadata": {
    "pycharm": {
     "name": "#%%\n"
    }
   },
   "outputs": [],
   "source": [
    "class StarDataset(object):\n",
    "    def __init__(self, path, transforms, window_size):\n",
    "        self.root = path\n",
    "        self.transforms = transforms\n",
    "        pth = os.listdir(path)\n",
    "        self.label_sequences = []\n",
    "\n",
    "        self.dir_paths = []\n",
    "        if os.path.isdir(path):\n",
    "            self.dir_paths.append(path + '/')\n",
    "            print(f\"Loaded {path}\")\n",
    "\n",
    "        self.window_size = window_size\n",
    "        self.seq_indexs = []\n",
    "        self.seq_indexs.append((0, 0, len(pth)))\n",
    "\n",
    "    def __len__(self):\n",
    "        return self.seq_indexs[-1][-1]\n",
    "\n",
    "    def __getitem__(self, idx):\n",
    "        # load images and masks\n",
    "        for i, start, end in self.seq_indexs:\n",
    "            if idx >= start and idx < end:\n",
    "                real_idx = idx - start\n",
    "\n",
    "                if real_idx > 3:\n",
    "                    entire_data1 = np.load(self.dir_paths[i] + '/' + str(int(real_idx) - 3) + \".npy\", allow_pickle=True)\n",
    "                    entire_data2 = np.load(self.dir_paths[i] + '/' + str(int(real_idx) - 2) + \".npy\", allow_pickle=True)\n",
    "                    entire_data3 = np.load(self.dir_paths[i] + '/' + str(int(real_idx) - 1) + \".npy\", allow_pickle=True)\n",
    "                    entire_data4 = np.load(self.dir_paths[i] + '/' + str(int(real_idx) + 0) + \".npy\", allow_pickle=True)\n",
    "                else:\n",
    "                    entire_data1 = np.load(self.dir_paths[i] + '/' + str(int(real_idx)) + \".npy\", allow_pickle=True)\n",
    "                    entire_data2 = entire_data1\n",
    "                    entire_data3 = entire_data1\n",
    "                    entire_data4 = entire_data1\n",
    "\n",
    "                data1 = entire_data1[0]\n",
    "                data2 = entire_data2[0]\n",
    "                data3 = entire_data3[0]\n",
    "                data4 = entire_data4[0]\n",
    "                \n",
    "                masks = entire_data4[1]\n",
    "\n",
    "                break\n",
    "\n",
    "        input_data = self.preprocessing(data1, data2, data3, data4)\n",
    "        return input_data, torch.as_tensor(np.array(masks), dtype=torch.uint8)\n",
    "\n",
    "    def preprocessing(self, data1, data2, data3, data4):\n",
    "        # 0 ground 1 air 2 building 3 spell 4 ground 5 air 6 building 7 spell 8 resource 9 vision 10 terrain\n",
    "        temp = np.zeros([self.window_size, 9, data1.shape[1], data1.shape[2]])\n",
    "\n",
    "        temp[0] = data1\n",
    "        temp[1] = data2\n",
    "        temp[2] = data3\n",
    "        temp[3] = data4\n",
    "\n",
    "        data = temp\n",
    "        data = data.reshape(self.window_size * data.shape[1], data.shape[2], -1)\n",
    "        # #data = data.reshape(self.window_size*data.shape[0],data.shape[1],-1)\n",
    "        # label = np.array([label[0]/3456, label[1]/3720])\n",
    "        return torch.FloatTensor(data)"
   ]
  },
  {
   "cell_type": "code",
   "execution_count": null,
   "id": "67abb288-53db-48b0-adea-3860fcb546b4",
   "metadata": {
    "pycharm": {
     "name": "#%%\n"
    }
   },
   "outputs": [
    {
     "name": "stdout",
     "output_type": "stream",
     "text": [
      "212\n",
      "Loaded C:/Users/joo/PycharmProjects/starcraft_replay_reconstructor-devel/starcraft_replay_reconstructor-devel/result/212\n"
     ]
    },
    {
     "name": "stderr",
     "output_type": "stream",
     "text": [
      "C:\\Users\\joo\\.conda\\envs\\starcraft\\lib\\site-packages\\torchvision\\models\\_utils.py:209: UserWarning: The parameter 'pretrained' is deprecated since 0.13 and will be removed in 0.15, please use 'weights' instead.\n",
      "  f\"The parameter '{pretrained_param}' is deprecated since 0.13 and will be removed in 0.15, \"\n",
      "C:\\Users\\joo\\.conda\\envs\\starcraft\\lib\\site-packages\\torchvision\\models\\_utils.py:223: UserWarning: Arguments other than a weight enum or `None` for 'weights' are deprecated since 0.13 and will be removed in 0.15. The current behavior is equivalent to passing `weights=MaskRCNN_ResNet50_FPN_Weights.COCO_V1`. You can also use `weights=MaskRCNN_ResNet50_FPN_Weights.DEFAULT` to get the most up-to-date weights.\n",
      "  warnings.warn(msg)\n"
     ]
    },
    {
     "name": "stdout",
     "output_type": "stream",
     "text": [
      "dataset_size: 3531\n"
     ]
    }
   ],
   "source": [
    "testing_replay = [\"212\"]\n",
    "datset_dir = \"C:/Users/joo/PycharmProjects/starcraft_replay_reconstructor-devel/starcraft_replay_reconstructor-devel/result/\"\n",
    "model_dir = \"C:/Users/joo/PycharmProjects/Automatic-Observer-for-StarCraft/save_models/jht/\"\n",
    "\n",
    "for i in testing_replay:    \n",
    "    replay_dir = datset_dir + str(i)\n",
    "    replay_name = int(replay_dir.split('/')[-1])\n",
    "    print(replay_name)\n",
    "    dataset = StarDataset(replay_dir, get_transform(train=False), window_size=4)\n",
    "    \n",
    "    dataset_len = len(dataset)    \n",
    "    Start, End, Step = 0, len(dataset), 1\n",
    "    test_img_array = []\n",
    "    test_img_one_channel_array = []\n",
    "    test_target_array = []\n",
    "\n",
    "    device = torch.device('cuda') if torch.cuda.is_available() else torch.device('cpu')\n",
    "    num_classes = 2\n",
    "    model = get_model_instance_segmentation(num_classes)\n",
    "    model.load_state_dict(torch.load(model_dir+\"model_28.pth\"))\n",
    "    model.to(device)\n",
    "    model.eval()\n",
    "\n",
    "    print(\"dataset_size:\", End)\n",
    "    for i in range(Start, End, Step):\n",
    "        img_t = dataset[i][0]\n",
    "        target_t = dataset[i][1]\n",
    "        test_img_array.append(img_t)\n",
    "        img_one_channel = img_t.sum(axis=0, keepdim=True)\n",
    "        test_img_one_channel_array.append(img_one_channel)\n",
    "        test_target_array.append(target_t)\n",
    "\n",
    "    print(\"input load\")\n",
    "    vpx_array = []\n",
    "    vpy_array = []\n",
    "    predictions = []\n",
    "    with torch.no_grad():\n",
    "        for idx, i in tqdm(enumerate(test_img_array)):\n",
    "            prediction = model(torch.unsqueeze(i, 0).to(device))\n",
    "            if prediction[0][\"boxes\"].shape[0] == 0:\n",
    "                prediction = model(torch.unsqueeze(i - 1, 0).to(device))\n",
    "                vpx = int(prediction[0][\"boxes\"][0][0]) * 32\n",
    "                vpy = int(prediction[0][\"boxes\"][0][1]) * 32\n",
    "            else:\n",
    "                vpx = int(prediction[0][\"boxes\"][0][0]) * 32\n",
    "                vpy = int(prediction[0][\"boxes\"][0][1]) * 32\n",
    "            predictions.append(prediction)\n",
    "            if idx % 500 == 0:\n",
    "                print(\"idx:  \", idx)\n",
    "            vpx_array.append(vpx)\n",
    "            vpy_array.append(vpy)\n",
    "    \n",
    "#     os.makedirs(\"./saved_xy/jht_20_gen/\", exist_ok=True)\n",
    "#     temp = np.zeros((dataset_len, 1))\n",
    "#     for i in range(0, dataset_len):\n",
    "#         temp[i] = int(i * 8)\n",
    "#     temp2 = np.zeros((int(temp.max()), 1))\n",
    "#     for i in range(0, int(temp.max())):\n",
    "#         temp2[i] = i\n",
    "\n",
    "#     dataset_temp = pd.DataFrame({\"frame\": temp[:, 0], \"vpx\": vpx_array[:], \"vpy\": vpy_array[:]})\n",
    "#     dataset_temp2 = pd.DataFrame({\"frame\": temp2[:, 0]})\n",
    "#     dataset = pd.merge(left=dataset_temp2, right=dataset_temp, how=\"left\", on=\"frame\")\n",
    "#     dataset = dataset.fillna(method=\"ffill\")\n",
    "#     dataset.to_csv(\"./saved_xy/jht_20_gen/\" + str(replay_name) + \".rep.vpd\", header=True, index=False)\n",
    "    \n",
    "\n",
    "    print(\"saved\")"
   ]
  },
  {
   "cell_type": "code",
   "execution_count": null,
   "id": "372c04d5",
   "metadata": {
    "pycharm": {
     "name": "#%%\n"
    }
   },
   "outputs": [],
   "source": [
    "plt.imshow(predictions[300][0]['masks'][0].sum(axis=0).mul(255).byte().cpu().detach().numpy())\n",
    "# print(predictions[300][0]['masks'][0].sum())\n",
    "plt.show()\n"
   ]
  },
  {
   "cell_type": "code",
   "execution_count": null,
   "id": "465718c2",
   "metadata": {
    "pycharm": {
     "name": "#%%\n"
    }
   },
   "outputs": [],
   "source": []
  },
  {
   "cell_type": "code",
   "execution_count": 24,
   "id": "469053cf",
   "metadata": {
    "pycharm": {
     "name": "#%%\n"
    }
   },
   "outputs": [
    {
     "data": {
      "image/png": "[encoded data removed]",
      "text/plain": [
       "<Figure size 640x480 with 35 Axes>"
      ]
     },
     "metadata": {},
     "output_type": "display_data"
    }
   ],
   "source": [
    "plot_len = int(len(test_img_array))\n",
    "plot_len = len(test_img_array)\n",
    "plot_len = int((2001-800)/200)+1\n",
    "for idx,i in enumerate(range(800,2001,200)):\n",
    "\n",
    "    a123 = test_target_array[i].sum(axis=0).detach().numpy().astype('float32')\n",
    "    blur2 = cv2.GaussianBlur(a123, (19,11), 0)\n",
    "    blur2 = np.where(blur2 <= 1.1, 0, blur2)\n",
    "    coordinates = peak_local_max(blur2, min_distance=7)   \n",
    "    \n",
    "    aa_zero = np.zeros((128,128))\n",
    "    for j in coordinates:\n",
    "        x = j[0]\n",
    "        y = j[1]\n",
    "        aa_zero[x-6:x+6,y-10:y+10]=1\n",
    "    \n",
    "    plt.subplot(5,plot_len,idx+1)\n",
    "#     print(test_img_array[i][:8].sum(axis=0).detach().numpy().shape)\n",
    "    plt.imshow(test_img_array[i][:8].sum(axis=0).detach().numpy())\n",
    "    plt.subplot(5,plot_len,idx+1+ plot_len)    \n",
    "    plt.imshow(test_target_array[i].sum(axis=0).detach().numpy())\n",
    "    plt.subplot(5,plot_len,idx+1+ plot_len*2)   \n",
    "    plt.plot(coordinates[:, 1], coordinates[:, 0], 'r.')\n",
    "    \n",
    "    plt.imshow(blur2)    \n",
    "    \n",
    "    plt.subplot(5,plot_len,idx+1+plot_len*3)\n",
    "    plt.imshow(aa_zero)\n",
    "    plt.subplot(5,plot_len,idx+1+plot_len*4)\n",
    "    plt.imshow(a123+aa_zero)\n",
    "\n",
    "plt.savefig(\"result55.png\",dpi=300)#,bbox_inches=None,pad_inches=300)#, bbox_inches='tight', pad_inches=10)\n",
    "plt.show()   \n",
    "\n",
    "\n"
   ]
  },
  {
   "cell_type": "code",
   "execution_count": null,
   "id": "05f49bbd",
   "metadata": {
    "pycharm": {
     "name": "#%%\n"
    }
   },
   "outputs": [],
   "source": []
  },
  {
   "cell_type": "code",
   "execution_count": 22,
   "id": "54e39060",
   "metadata": {
    "pycharm": {
     "name": "#%%\n"
    }
   },
   "outputs": [
    {
     "name": "stdout",
     "output_type": "stream",
     "text": [
      "tensor([7.6461e-02, 1.0893e+02, 1.9059e+01, 1.1993e+02], device='cuda:0')\n",
      "tensor([38.4043, 46.0906, 57.4160, 57.0964], device='cuda:0')\n",
      "tensor([ 26.0977, 106.0123,  45.0946, 116.9710], device='cuda:0')\n",
      "tensor([107.7055,  77.8961, 126.7991,  89.0077], device='cuda:0')\n",
      "tensor([ 85.3164,  81.8458, 104.3189,  92.8503], device='cuda:0')\n",
      "tensor([ 97.0071,  57.2329, 115.9983,  68.2425], device='cuda:0')\n"
     ]
    },
    {
     "data": {
      "image/png": "[encoded data removed]",
      "text/plain": [
       "<Figure size 640x480 with 30 Axes>"
      ]
     },
     "metadata": {},
     "output_type": "display_data"
    }
   ],
   "source": [
    "from matplotlib import cm\n",
    "\n",
    "plot_len = int((3001 - 1500-150*5)/150)+1\n",
    "for idx,i in enumerate(range(1500+150*5,3001,150)):\n",
    "\n",
    "    a123 = test_target_array[i].sum(axis=0).detach().numpy().astype('float32')\n",
    "    blur2 = cv2.GaussianBlur(a123, (19,11), 0)\n",
    "    blur2 = np.where(blur2 <= 1.1, 0, blur2)\n",
    "    coordinates = peak_local_max(blur2, min_distance=7)   \n",
    "    \n",
    "    aa_zero = np.zeros((128,128))\n",
    "    for j in coordinates:\n",
    "        x = j[0]\n",
    "        y = j[1]\n",
    "        aa_zero[x-6:x+6,y-10:y+10]=1\n",
    "        \n",
    "    acac = test_img_array[i][:8].sum(axis=0).detach().numpy()    \n",
    "    acac = np.where(acac >= 1, 1.0, 0.0)\n",
    "    \n",
    "    plt.subplot(5,plot_len,idx+1)         \n",
    "    plt.tight_layout()\n",
    "    plt.axis('off')    \n",
    "    plt.imshow(acac)\n",
    "   \n",
    "    plt.subplot(5,plot_len,idx+1+plot_len*1)\n",
    "    plt.tight_layout()\n",
    "    plt.axis('off')\n",
    "    plt.imshow(test_target_array[i].sum(axis=0).mul(255).detach().numpy().astype('float32'))\n",
    "    \n",
    "    plt.subplot(5,plot_len,idx+1+plot_len*2)         \n",
    "    plt.tight_layout()\n",
    "    plt.axis('off')\n",
    "    plt.imshow(predictions[i][0]['masks'][0].sum(axis=0).mul(255).byte().cpu().detach().numpy())\n",
    "            \n",
    "    plt.subplot(5,plot_len,idx+1+plot_len*3)\n",
    "    plt.tight_layout()\n",
    "    plt.axis('off')\n",
    "    plt.imshow(predictions[i-10][0]['masks'][0].sum(axis=0).mul(255).byte().cpu().detach().numpy())\n",
    "#     print(predictions[i][0]['boxes'][0])\n",
    "    \n",
    "    coordinates1 = predictions[i][0]['boxes'][0]\n",
    "    yy1 = np.zeros((128,128))\n",
    "#     for j in coordinates1:\n",
    "#         y = j[1]\n",
    "#         x = j[0]\n",
    "#         aa_zero1[y-6:y+6,x-10:x+10]=1\n",
    "    yy1[int(predictions[i][0]['boxes'][0][1]):int(predictions[i][0]['boxes'][0][1]) + 12, int(predictions[i][0]['boxes'][0][0]):int(predictions[i][0]['boxes'][0][0]) + 20] = 1\n",
    "\n",
    "    \n",
    "    plt.subplot(5,plot_len,idx+1+plot_len*4)\n",
    "    plt.tight_layout()\n",
    "    plt.axis('off')\n",
    "    plt.imshow(yy1)\n",
    "\n",
    "plt.tight_layout()\n",
    "plt.savefig(\"result_late_screen1.png\",dpi=500,pad_inches=0,bbox_inches='tight')\n",
    "plt.show()\n",
    "\n",
    "\n"
   ]
  },
  {
   "cell_type": "code",
   "execution_count": null,
   "id": "cc02673f",
   "metadata": {
    "pycharm": {
     "name": "#%%\n"
    }
   },
   "outputs": [],
   "source": []
  },
  {
   "cell_type": "code",
   "execution_count": null,
   "id": "6d6acbf3",
   "metadata": {
    "pycharm": {
     "name": "#%%\n"
    }
   },
   "outputs": [],
   "source": []
  },
  {
   "cell_type": "code",
   "execution_count": null,
   "id": "84a56a51",
   "metadata": {
    "pycharm": {
     "name": "#%%\n"
    }
   },
   "outputs": [],
   "source": []
  },
  {
   "cell_type": "code",
   "execution_count": null,
   "id": "4c5c423d",
   "metadata": {
    "pycharm": {
     "name": "#%%\n"
    }
   },
   "outputs": [],
   "source": []
  },
  {
   "cell_type": "code",
   "execution_count": 23,
   "id": "92e59ca2",
   "metadata": {
    "pycharm": {
     "name": "#%%\n"
    }
   },
   "outputs": [
    {
     "name": "stdout",
     "output_type": "stream",
     "text": [
      "tensor([107.7046, 111.9415, 126.7349, 122.9725], device='cuda:0')\n",
      "tensor([60.3700, 68.0347, 79.3478, 79.0216], device='cuda:0')\n",
      "tensor([ 86.3623,  83.3532, 105.3657,  94.3632], device='cuda:0')\n",
      "tensor([ 42.6199,  92.5804,  61.5985, 103.5060], device='cuda:0')\n",
      "tensor([107.9148, 109.3421, 126.9215, 120.3743], device='cuda:0')\n",
      "tensor([ 91.8037,  83.2498, 110.8068,  94.2458], device='cuda:0')\n",
      "tensor([ 28.8608, 105.4050,  47.8791, 116.4138], device='cuda:0')\n"
     ]
    },
    {
     "data": {
      "image/png": "[encoded data removed]",
      "text/plain": [
       "<Figure size 640x480 with 35 Axes>"
      ]
     },
     "metadata": {},
     "output_type": "display_data"
    }
   ],
   "source": [
    "from matplotlib import cm\n",
    "\n",
    "plot_len = int(len(test_img_array))\n",
    "plot_len = len(test_img_array)\n",
    "plot_len = int((2001-800)/200)+1\n",
    "for idx,i in enumerate(range(800,2001,200)):\n",
    "\n",
    "    a123 = test_target_array[i].sum(axis=0).detach().numpy().astype('float32')\n",
    "    blur2 = cv2.GaussianBlur(a123, (19,11), 0)\n",
    "    blur2 = np.where(blur2 <= 1.1, 0, blur2)\n",
    "    coordinates = peak_local_max(blur2, min_distance=7)   \n",
    "    \n",
    "    aa_zero = np.zeros((128,128))\n",
    "    for j in coordinates:\n",
    "        x = j[0]\n",
    "        y = j[1]\n",
    "        aa_zero[x-6:x+6,y-10:y+10]=1\n",
    "        \n",
    "    acac = test_img_array[i][:8].sum(axis=0).detach().numpy()    \n",
    "    acac = np.where(acac >= 1, 1.0, 0.0)\n",
    "    \n",
    "    plt.subplot(5,plot_len,idx+1)         \n",
    "    plt.tight_layout()\n",
    "    plt.axis('off')    \n",
    "    plt.imshow(acac)\n",
    "   \n",
    "    plt.subplot(5,plot_len,idx+1+plot_len*1)\n",
    "    plt.tight_layout()\n",
    "    plt.axis('off')\n",
    "    plt.imshow(test_target_array[i].sum(axis=0).mul(255).detach().numpy().astype('float32'))\n",
    "    \n",
    "    plt.subplot(5,plot_len,idx+1+plot_len*2)         \n",
    "    plt.tight_layout()\n",
    "    plt.axis('off')\n",
    "    plt.imshow(predictions[i][0]['masks'][0].sum(axis=0).mul(255).byte().cpu().detach().numpy())\n",
    "            \n",
    "    plt.subplot(5,plot_len,idx+1+plot_len*3)\n",
    "    plt.tight_layout()\n",
    "    plt.axis('off')\n",
    "    plt.imshow(predictions[i][0]['masks'][1].sum(axis=0).mul(255).byte().cpu().detach().numpy())\n",
    "#     print(predictions[i][0]['boxes'][0])\n",
    "    \n",
    "    coordinates1 = predictions[i][0]['boxes'][0]\n",
    "    yy1 = np.zeros((128,128))\n",
    "#     for j in coordinates1:\n",
    "#         y = j[1]\n",
    "#         x = j[0]\n",
    "#         aa_zero1[y-6:y+6,x-10:x+10]=1\n",
    "    yy1[int(predictions[i][0]['boxes'][0][1]):int(predictions[i][0]['boxes'][0][1]) + 12, int(predictions[i][0]['boxes'][0][0]):int(predictions[i][0]['boxes'][0][0]) + 20] = 1\n",
    "\n",
    "    \n",
    "    plt.subplot(5,plot_len,idx+1+plot_len*4)\n",
    "    plt.tight_layout()\n",
    "    plt.axis('off')\n",
    "    plt.imshow(yy1)\n",
    "\n",
    "plt.tight_layout()\n",
    "plt.savefig(\"result_late_screen1.png\",dpi=500,pad_inches=0,bbox_inches='tight')\n",
    "plt.show()\n",
    "\n",
    "\n"
   ]
  },
  {
   "cell_type": "code",
   "execution_count": null,
   "id": "9b413502",
   "metadata": {
    "pycharm": {
     "name": "#%%\n"
    }
   },
   "outputs": [],
   "source": [
    "from matplotlib import cm\n",
    "\n",
    "plot_len = int((3001 - 1500-150*5)/150)+1\n",
    "for idx,i in enumerate(range(1500+150*5,3001,150)):\n",
    "\n",
    "    a123 = test_target_array[i].sum(axis=0).detach().numpy().astype('float32')\n",
    "    blur2 = cv2.GaussianBlur(a123, (19,11), 0)\n",
    "    blur2 = np.where(blur2 <= 1.1, 0, blur2)\n",
    "    coordinates = peak_local_max(blur2, min_distance=7)   \n",
    "    \n",
    "    aa_zero = np.zeros((128,128))\n",
    "    for j in coordinates:\n",
    "        x = j[0]\n",
    "        y = j[1]\n",
    "        aa_zero[x-6:x+6,y-10:y+10]=1\n",
    "        \n",
    "    acac = test_img_array[i][:8].sum(axis=0).detach().numpy()    \n",
    "    acac = np.where(acac >= 1, 1.0, 0.0)\n",
    "    \n",
    "    plt.subplot(8,plot_len,idx+1)         \n",
    "    plt.tight_layout()\n",
    "    plt.axis('off')    \n",
    "    plt.imshow(acac)\n",
    "   \n",
    "    plt.subplot(8,plot_len,idx+1+plot_len*1)\n",
    "    plt.tight_layout()\n",
    "    plt.axis('off')\n",
    "    plt.imshow(test_target_array[i].sum(axis=0).mul(255).detach().numpy().astype('float32'))\n",
    "    \n",
    "    plt.subplot(8,plot_len,idx+1+plot_len*2)         \n",
    "    plt.tight_layout()\n",
    "    plt.axis('off')\n",
    "    plt.imshow(predictions[i][0]['masks'][0].sum(axis=0).mul(255).byte().cpu().detach().numpy())\n",
    "            \n",
    "    plt.subplot(8,plot_len,idx+1+plot_len*3)\n",
    "    plt.tight_layout()\n",
    "    plt.axis('off')\n",
    "    plt.imshow(predictions[i-2][0]['masks'][0].sum(axis=0).mul(255).byte().cpu().detach().numpy())\n",
    "    print(predictions[i][0]['boxes'][0])\n",
    "    \n",
    "    coordinates1 = predictions[i][0]['boxes'][0]\n",
    "    yy1 = np.zeros((128,128))\n",
    "    yy1[int(predictions[i][0]['boxes'][0][1]):int(predictions[i][0]['boxes'][0][1]) + 12, int(predictions[i][0]['boxes'][0][0]):int(predictions[i][0]['boxes'][0][0]) + 20] = 1\n",
    "    \n",
    "    plt.subplot(8,plot_len,idx+1+plot_len*4)\n",
    "    plt.tight_layout()\n",
    "    plt.axis('off')\n",
    "    plt.imshow(predictions[i-4][0]['masks'][0].sum(axis=0).mul(255).byte().cpu().detach().numpy())\n",
    "    \n",
    "    plt.subplot(8,plot_len,idx+1+plot_len*5)\n",
    "    plt.tight_layout()\n",
    "    plt.axis('off')\n",
    "    plt.imshow(predictions[i-6][0]['masks'][0].sum(axis=0).mul(255).byte().cpu().detach().numpy())\n",
    "    \n",
    "    plt.subplot(8,plot_len,idx+1+plot_len*6)\n",
    "    plt.tight_layout()\n",
    "    plt.axis('off')\n",
    "    plt.imshow(predictions[i-8][0]['masks'][0].sum(axis=0).mul(255).byte().cpu().detach().numpy())\n",
    "    \n",
    "    plt.subplot(8,plot_len,idx+1+plot_len*7)\n",
    "    plt.tight_layout()\n",
    "    plt.axis('off')\n",
    "    plt.imshow(predictions[i-10][0]['masks'][0].sum(axis=0).mul(255).byte().cpu().detach().numpy())\n",
    "\n",
    "plt.tight_layout()\n",
    "plt.savefig(\"result_late_screen1.png\",dpi=500,pad_inches=0,bbox_inches='tight')\n",
    "plt.show()\n",
    "\n",
    "\n"
   ]
  },
  {
   "cell_type": "code",
   "execution_count": null,
   "id": "abc27528",
   "metadata": {
    "pycharm": {
     "name": "#%%\n"
    }
   },
   "outputs": [],
   "source": []
  },
  {
   "cell_type": "code",
   "execution_count": null,
   "id": "fd91e0d0",
   "metadata": {
    "pycharm": {
     "name": "#%%\n"
    }
   },
   "outputs": [],
   "source": []
  },
  {
   "cell_type": "code",
   "execution_count": null,
   "id": "4e7cab52",
   "metadata": {
    "pycharm": {
     "name": "#%%\n"
    }
   },
   "outputs": [],
   "source": []
  },
  {
   "cell_type": "code",
   "execution_count": null,
   "id": "0480014f",
   "metadata": {
    "pycharm": {
     "name": "#%%\n"
    }
   },
   "outputs": [],
   "source": []
  },
  {
   "cell_type": "code",
   "execution_count": null,
   "id": "93bd8dc7",
   "metadata": {
    "pycharm": {
     "name": "#%%\n"
    }
   },
   "outputs": [],
   "source": [
    "len(test_target_array)"
   ]
  },
  {
   "cell_type": "code",
   "execution_count": null,
   "id": "9c21409d",
   "metadata": {
    "pycharm": {
     "name": "#%%\n"
    }
   },
   "outputs": [],
   "source": [
    "yy1[int(predictions[i][0]['boxes'][0][1]):int(predictions[i][0]['boxes'][0][1]) + 12, int(predictions[i][0]['boxes'][0][0]):int(predictions[i][0]['boxes'][0][0]) + 20] = 1\n",
    "old = np.zeros((1,10))\n",
    "\n",
    "cumulate_y_diff_lst = []\n",
    "cumulate_x_diff_lst = []\n",
    "cumulate_x_y_diff_lst = []\n",
    "remove_index = []\n",
    "\n",
    "for i in range(10,len(test_target_array), 1):\n",
    "#     ymin = int(predictions[i][0]['boxes'][0][1])\n",
    "#     xmin = int(predictions[i][0]['boxes'][0][0])\n",
    "#     print(i)\n",
    "    cumulate_y_diff = 0\n",
    "    cumulate_x_diff = 0\n",
    "    if len(remove_index) != 0:\n",
    "        if i < (remove_index[-1]+10):\n",
    "            #print(i) \n",
    "            continue\n",
    "        else:\n",
    "            for j in range(i,i-10,-1):\n",
    "                y_diff = abs(int(predictions[j][0]['boxes'][0][1]+12)-int(predictions[j-1][0]['boxes'][0][1]+12))\n",
    "                x_diff = abs(int(predictions[j][0]['boxes'][0][0]+20)-int(predictions[j-1][0]['boxes'][0][1]+20))\n",
    "                cumulate_y_diff += y_diff\n",
    "                cumulate_x_diff += x_diff\n",
    "            if x_diff > 60 or y_diff > 36: #or np.square(x_diff*x_diff + y_diff*y_diff)> 20*20+12*12:\n",
    "                print(\"Start newepisode\")\n",
    "                remove_index.append(i)\n",
    "                continue\n",
    "                \n",
    "            cumulate_y_diff_lst.append(cumulate_y_diff)\n",
    "            cumulate_x_diff_lst.append(cumulate_x_diff)  \n",
    "    else:\n",
    "        for j in range(i,i-10,-1):\n",
    "            y_diff = abs(int(predictions[j][0]['boxes'][0][1]+12)-int(predictions[j-1][0]['boxes'][0][1]+12))\n",
    "            x_diff = abs(int(predictions[j][0]['boxes'][0][0]+20)-int(predictions[j-1][0]['boxes'][0][1]+20))\n",
    "            cumulate_y_diff += y_diff\n",
    "            cumulate_x_diff += x_diff\n",
    "            if x_diff > 20 or y_diff > 12 : #or np.square(x_diff*x_diff + y_diff*y_diff)> 20*20+12*12:\n",
    "                print(i,\"Start newepisode\")\n",
    "                remove_index.append(i)\n",
    "                continue\n",
    "                #break\n",
    "        cumulate_y_diff_lst.append(cumulate_y_diff)\n",
    "        cumulate_x_diff_lst.append(cumulate_x_diff)    \n",
    "    "
   ]
  },
  {
   "cell_type": "code",
   "execution_count": null,
   "id": "c32031a3",
   "metadata": {
    "pycharm": {
     "name": "#%%\n"
    }
   },
   "outputs": [],
   "source": [
    "len(remove_index)"
   ]
  },
  {
   "cell_type": "code",
   "execution_count": null,
   "id": "9964b30b",
   "metadata": {
    "pycharm": {
     "name": "#%%\n"
    }
   },
   "outputs": [],
   "source": [
    "remove_index"
   ]
  },
  {
   "cell_type": "code",
   "execution_count": null,
   "id": "03f933e8",
   "metadata": {
    "pycharm": {
     "name": "#%%\n"
    }
   },
   "outputs": [],
   "source": []
  },
  {
   "cell_type": "code",
   "execution_count": null,
   "id": "baf3c743",
   "metadata": {
    "pycharm": {
     "name": "#%%\n"
    }
   },
   "outputs": [],
   "source": []
  },
  {
   "cell_type": "code",
   "execution_count": null,
   "id": "81de084b",
   "metadata": {
    "pycharm": {
     "name": "#%%\n"
    }
   },
   "outputs": [],
   "source": []
  },
  {
   "cell_type": "code",
   "execution_count": null,
   "id": "35e850d1",
   "metadata": {
    "pycharm": {
     "name": "#%%\n"
    }
   },
   "outputs": [],
   "source": [
    "yy1[int(predictions[i][0]['boxes'][0][1]):int(predictions[i][0]['boxes'][0][1]) + 12, int(predictions[i][0]['boxes'][0][0]):int(predictions[i][0]['boxes'][0][0]) + 20] = 1\n",
    "old = np.zeros((1,10))\n",
    "\n",
    "cumulate_y_diff_lst = []\n",
    "cumulate_x_diff_lst = []\n",
    "cumulate_x_y_diff_lst = []\n",
    "remove_index = []\n",
    "\n",
    "for i in range(10,len(test_target_array), 1):\n",
    "#     ymin = int(predictions[i][0]['boxes'][0][1])\n",
    "#     xmin = int(predictions[i][0]['boxes'][0][0])\n",
    "#     print(i)\n",
    "    cumulate_y_diff = 0\n",
    "    cumulate_x_diff = 0\n",
    "    if len(remove_index) != 0:\n",
    "        if i < (remove_index[-1]+10):\n",
    "            #print(i) \n",
    "            continue\n",
    "        else:\n",
    "            for j in range(i,i-10,-1):\n",
    "                y_diff = abs(int(predictions[j][0]['boxes'][0][1]+12)-int(predictions[j-1][0]['boxes'][0][1]+12))\n",
    "                x_diff = abs(int(predictions[j][0]['boxes'][0][0]+20)-int(predictions[j-1][0]['boxes'][0][1]+20))\n",
    "                cumulate_y_diff += y_diff\n",
    "                cumulate_x_diff += x_diff\n",
    "            if x_diff > 40 or y_diff > 24 : #or np.square(x_diff*x_diff + y_diff*y_diff)> 20*20+12*12:\n",
    "                print(\"Start newepisode\")\n",
    "                remove_index.append(i)\n",
    "                continue\n",
    "                \n",
    "            cumulate_y_diff_lst.append(cumulate_y_diff)\n",
    "            cumulate_x_diff_lst.append(cumulate_x_diff)  \n",
    "    else:\n",
    "        for j in range(i,i-10,-1):\n",
    "            y_diff = abs(int(predictions[j][0]['boxes'][0][1]+12)-int(predictions[j-1][0]['boxes'][0][1]+12))\n",
    "            x_diff = abs(int(predictions[j][0]['boxes'][0][0]+20)-int(predictions[j-1][0]['boxes'][0][1]+20))\n",
    "            cumulate_y_diff += y_diff\n",
    "            cumulate_x_diff += x_diff\n",
    "            if x_diff > 20 or y_diff > 12 : #or np.square(x_diff*x_diff + y_diff*y_diff)> 20*20+12*12:\n",
    "                print(i,\"Start newepisode\")\n",
    "                remove_index.append(i)\n",
    "                continue\n",
    "                #break\n",
    "        cumulate_y_diff_lst.append(cumulate_y_diff)\n",
    "        cumulate_x_diff_lst.append(cumulate_x_diff)    \n",
    "    "
   ]
  },
  {
   "cell_type": "code",
   "execution_count": null,
   "id": "bcfd3196",
   "metadata": {
    "pycharm": {
     "name": "#%%\n"
    }
   },
   "outputs": [],
   "source": [
    "len(remove_index)"
   ]
  },
  {
   "cell_type": "code",
   "execution_count": null,
   "id": "ff8897ff",
   "metadata": {
    "pycharm": {
     "name": "#%%\n"
    }
   },
   "outputs": [],
   "source": [
    "from matplotlib import pyplot as plt\n",
    "plt.plot(cumulate_y_diff_lst)\n",
    "plt.show()"
   ]
  },
  {
   "cell_type": "code",
   "execution_count": null,
   "id": "f5b89f7b",
   "metadata": {
    "pycharm": {
     "name": "#%%\n"
    }
   },
   "outputs": [],
   "source": [
    "from matplotlib import pyplot as plt\n",
    "plt.plot(cumulate_x_diff_lst)\n",
    "plt.show()"
   ]
  },
  {
   "cell_type": "code",
   "execution_count": null,
   "id": "a16379f5",
   "metadata": {
    "pycharm": {
     "name": "#%%\n"
    }
   },
   "outputs": [],
   "source": [
    "from matplotlib import pyplot as plt\n",
    "plt.plot(np.sqrt(np.asarray(cumulate_x_diff_lst)*np.asarray(cumulate_x_diff_lst) + np.asarray(cumulate_y_diff_lst)*np.asarray(cumulate_y_diff_lst)))\n",
    "plt.show()\n"
   ]
  },
  {
   "cell_type": "code",
   "execution_count": null,
   "id": "27f38d14",
   "metadata": {
    "pycharm": {
     "name": "#%%\n"
    }
   },
   "outputs": [],
   "source": [
    "np.sqrt(np.asarray(cumulate_x_diff_lst)*np.asarray(cumulate_x_diff_lst) + np.asarray(cumulate_y_diff_lst)*np.asarray(cumulate_y_diff_lst))"
   ]
  },
  {
   "cell_type": "code",
   "execution_count": null,
   "id": "c72d355e",
   "metadata": {
    "pycharm": {
     "name": "#%%\n"
    }
   },
   "outputs": [],
   "source": [
    "cumulate_x_diff_lst"
   ]
  },
  {
   "cell_type": "code",
   "execution_count": null,
   "id": "b68ab15e",
   "metadata": {
    "pycharm": {
     "name": "#%%\n"
    }
   },
   "outputs": [],
   "source": []
  },
  {
   "cell_type": "code",
   "execution_count": null,
   "id": "6f9fc780",
   "metadata": {
    "pycharm": {
     "name": "#%%\n"
    }
   },
   "outputs": [],
   "source": []
  },
  {
   "cell_type": "code",
   "execution_count": null,
   "id": "02ef2a14",
   "metadata": {
    "pycharm": {
     "name": "#%%\n"
    }
   },
   "outputs": [],
   "source": []
  },
  {
   "cell_type": "code",
   "execution_count": null,
   "id": "e5e29cc7",
   "metadata": {
    "pycharm": {
     "name": "#%%\n"
    }
   },
   "outputs": [],
   "source": []
  },
  {
   "cell_type": "code",
   "execution_count": null,
   "id": "772fb154",
   "metadata": {
    "pycharm": {
     "name": "#%%\n"
    }
   },
   "outputs": [],
   "source": []
  }
 ],
 "metadata": {
  "kernelspec": {
   "display_name": "Python 3 (ipykernel)",
   "language": "python",
   "name": "python3"
  },
  "language_info": {
   "codemirror_mode": {
    "name": "ipython",
    "version": 3
   },
   "file_extension": ".py",
   "mimetype": "text/x-python",
   "name": "python",
   "nbconvert_exporter": "python",
   "pygments_lexer": "ipython3",
   "version": "3.7.0"
  }
 },
 "nbformat": 4,
 "nbformat_minor": 5
}
